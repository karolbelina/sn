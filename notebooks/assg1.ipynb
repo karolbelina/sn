{
 "metadata": {
  "language_info": {
   "codemirror_mode": {
    "name": "ipython",
    "version": 3
   },
   "file_extension": ".py",
   "mimetype": "text/x-python",
   "name": "python",
   "nbconvert_exporter": "python",
   "pygments_lexer": "ipython3",
   "version": "3.9.0-candidate"
  },
  "orig_nbformat": 2,
  "kernelspec": {
   "name": "Python 3.9.0 64-bit ('venv': venv)",
   "display_name": "Python 3.9.0 64-bit ('venv': venv)",
   "metadata": {
    "interpreter": {
     "hash": "fb33f5983391e17bcab321b4669d2ab9b10d789c00ab93b2859330178a161d1e"
    }
   }
  }
 },
 "nbformat": 4,
 "nbformat_minor": 2,
 "cells": [
  {
   "source": [
    "import sys\n",
    "sys.path.append('../src/')\n",
    "\n",
    "from adaline import Adaline\n",
    "from data_loader import DataLoader\n",
    "from operator import and_, or_, xor\n",
    "from random_fns import Uniform\n",
    "from simple_perceptron import SimplePerceptron\n",
    "from trainer import Trainer\n",
    "\n",
    "import numpy as np"
   ],
   "cell_type": "code",
   "metadata": {
    "tags": []
   },
   "execution_count": 1,
   "outputs": []
  },
  {
   "cell_type": "code",
   "execution_count": 2,
   "metadata": {
    "tags": []
   },
   "outputs": [],
   "source": [
    "def generate_binary_fn(fn, logic='bipolar') -> list[tuple[np.ndarray, np.ndarray]]:\n",
    "    from itertools import product\n",
    "\n",
    "    f = lambda x: 1.0 if x else (-1.0 if logic == 'bipolar' else 0.0)\n",
    "    data = [(np.array([[f(a), f(b)]]), np.array([[f(fn(a, b))]]))\n",
    "            for a in [False, True] for b in [False, True]]\n",
    "    return data\n",
    "\n",
    "def augment_data(data, n) -> list[tuple[np.ndarray, np.ndarray]]:\n",
    "    augmented = []\n",
    "    for x, y in data:\n",
    "        for _ in range(n):\n",
    "            augmented_x = x.copy()\n",
    "            augmented_x[0][0] += (np.random.rand() - 0.5) / 100\n",
    "            augmented_x[0][1] += (np.random.rand() - 0.5) / 100\n",
    "            augmented.append((augmented_x, y))\n",
    "    return augmented"
   ]
  },
  {
   "cell_type": "code",
   "execution_count": 3,
   "metadata": {},
   "outputs": [],
   "source": [
    "models = [\n",
    "    SimplePerceptron(\n",
    "        input_size=2,\n",
    "        random_fn=Uniform(-1.0, 1.0),\n",
    "        learning_rate=0.01,\n",
    "    ),\n",
    "    Adaline(\n",
    "        input_size=2,\n",
    "        random_fn=Uniform(-1.0, 1.0),\n",
    "        learning_rate=0.01,\n",
    "    )\n",
    "]"
   ]
  },
  {
   "cell_type": "code",
   "execution_count": 4,
   "metadata": {},
   "outputs": [],
   "source": [
    "data = generate_binary_fn(and_)\n",
    "\n",
    "train_dataloader = DataLoader(data)\n",
    "val_dataloader = DataLoader(augment_data(data, 10), random=False)"
   ]
  },
  {
   "cell_type": "code",
   "execution_count": 5,
   "metadata": {
    "tags": []
   },
   "outputs": [
    {
     "output_type": "stream",
     "name": "stdout",
     "text": [
      "Simple perceptron done in 28 epochs\nADALINE done in 28 epochs\n"
     ]
    }
   ],
   "source": [
    "trainer = Trainer(max_epochs=1000)\n",
    "for model in models:\n",
    "    epochs = trainer.fit(model, train_dataloader, val_dataloader)\n",
    "\n",
    "    print(f\"{str(model)} done in {epochs} epochs\")"
   ]
  },
  {
   "cell_type": "code",
   "execution_count": 6,
   "metadata": {},
   "outputs": [
    {
     "output_type": "stream",
     "name": "stdout",
     "text": [
      "Simple perceptron:\n    [[1. 1.]] -> [[1]]\n    [[ 1. -1.]] -> [[-1]]\n    [[-1. -1.]] -> [[-1]]\n    [[-1.  1.]] -> [[-1]]\nADALINE:\n    [[1. 1.]] -> [[1]]\n    [[ 1. -1.]] -> [[-1]]\n    [[-1. -1.]] -> [[-1]]\n    [[-1.  1.]] -> [[-1]]\n"
     ]
    }
   ],
   "source": [
    "for model in models:\n",
    "    print(f\"{str(model)}:\")\n",
    "    for x, _ in data:\n",
    "        print(f\"    {x} -> {model(x)}\")"
   ]
  }
 ]
}