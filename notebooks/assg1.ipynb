{
 "metadata": {
  "language_info": {
   "codemirror_mode": {
    "name": "ipython",
    "version": 3
   },
   "file_extension": ".py",
   "mimetype": "text/x-python",
   "name": "python",
   "nbconvert_exporter": "python",
   "pygments_lexer": "ipython3",
   "version": "3.9.0-candidate"
  },
  "orig_nbformat": 2,
  "kernelspec": {
   "name": "Python 3.9.0 64-bit ('venv': venv)",
   "display_name": "Python 3.9.0 64-bit ('venv': venv)",
   "metadata": {
    "interpreter": {
     "hash": "fb33f5983391e17bcab321b4669d2ab9b10d789c00ab93b2859330178a161d1e"
    }
   }
  }
 },
 "nbformat": 4,
 "nbformat_minor": 2,
 "cells": [
  {
   "source": [
    "import sys\n",
    "sys.path.append('../src/')\n",
    "\n",
    "from simple_perceptron import SimplePerceptron\n",
    "import numpy as np"
   ],
   "cell_type": "code",
   "metadata": {
    "tags": []
   },
   "execution_count": 1,
   "outputs": []
  },
  {
   "cell_type": "code",
   "execution_count": 2,
   "metadata": {},
   "outputs": [],
   "source": [
    "logic = 'unipolar'\n",
    "p = SimplePerceptron(\n",
    "    size=2,\n",
    "    learning_rate=0.01,\n",
    "    threshold=-2.0,\n",
    "    logic=logic\n",
    ")"
   ]
  },
  {
   "cell_type": "code",
   "execution_count": 3,
   "metadata": {
    "tags": []
   },
   "outputs": [],
   "source": [
    "def generate_training_set(logic='bipolar'):\n",
    "    from itertools import product\n",
    "\n",
    "    f = lambda x: 1 if x else (-1 if logic == 'bipolar' else 0)\n",
    "    D = [(np.array([f(a), f(b)]), f(a and b)) for a, b in product([False, True], repeat=2)]\n",
    "    return zip(*D)\n",
    "\n",
    "X, y = generate_training_set(logic=logic)"
   ]
  },
  {
   "cell_type": "code",
   "execution_count": 4,
   "metadata": {
    "tags": []
   },
   "outputs": [],
   "source": [
    "p.fit(X, y)"
   ]
  },
  {
   "cell_type": "code",
   "execution_count": 5,
   "metadata": {},
   "outputs": [
    {
     "output_type": "stream",
     "name": "stdout",
     "text": [
      "0\n0\n0\n1\n"
     ]
    }
   ],
   "source": [
    "print(p.predict(np.array([-1, -1])))\n",
    "print(p.predict(np.array([+1, -1])))\n",
    "print(p.predict(np.array([-1, +1])))\n",
    "print(p.predict(np.array([+1, +1])))"
   ]
  }
 ]
}