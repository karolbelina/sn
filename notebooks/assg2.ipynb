{
 "metadata": {
  "language_info": {
   "codemirror_mode": {
    "name": "ipython",
    "version": 3
   },
   "file_extension": ".py",
   "mimetype": "text/x-python",
   "name": "python",
   "nbconvert_exporter": "python",
   "pygments_lexer": "ipython3",
   "version": "3.9.0-candidate"
  },
  "orig_nbformat": 2,
  "kernelspec": {
   "name": "Python 3.9.0 64-bit ('venv': venv)",
   "display_name": "Python 3.9.0 64-bit ('venv': venv)",
   "metadata": {
    "interpreter": {
     "hash": "fb33f5983391e17bcab321b4669d2ab9b10d789c00ab93b2859330178a161d1e"
    }
   }
  }
 },
 "nbformat": 4,
 "nbformat_minor": 2,
 "cells": [
  {
   "cell_type": "code",
   "execution_count": 1,
   "metadata": {},
   "outputs": [],
   "source": [
    "import sys\n",
    "sys.path.append('../src/')\n",
    "\n",
    "from data_loader import DataLoader\n",
    "from model import Model\n",
    "from multilayer_perceptron import MultilayerPerceptron as MLP\n",
    "from random_fns import Normal, RandomFunction\n",
    "from trainer import Trainer\n",
    "\n",
    "import matplotlib.pyplot as plt\n",
    "import numpy as np"
   ]
  },
  {
   "cell_type": "code",
   "execution_count": 2,
   "metadata": {},
   "outputs": [],
   "source": [
    "with np.load('../data/mnist.npz') as data:\n",
    "    training_images = data['training_images']\n",
    "    training_labels = data['training_labels']"
   ]
  },
  {
   "cell_type": "code",
   "execution_count": 3,
   "metadata": {},
   "outputs": [
    {
     "output_type": "execute_result",
     "data": {
      "text/plain": [
       "array([[0.01324113],\n",
       "       [0.00691682],\n",
       "       [0.33802524],\n",
       "       [0.01079358],\n",
       "       [0.4653753 ],\n",
       "       [0.00410164],\n",
       "       [0.09314663],\n",
       "       [0.01621787],\n",
       "       [0.01586591],\n",
       "       [0.03631588]])"
      ]
     },
     "metadata": {},
     "execution_count": 3
    }
   ],
   "source": [
    "nn = MLP(\n",
    "    layer_sizes=[784, 64, 10],\n",
    "    random_fn=Normal(std=1)\n",
    ")\n",
    "\n",
    "nn(np.ones((784, 1)))"
   ]
  },
  {
   "cell_type": "code",
   "execution_count": null,
   "metadata": {},
   "outputs": [],
   "source": []
  }
 ]
}