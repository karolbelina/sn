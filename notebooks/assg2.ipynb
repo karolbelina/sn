{
 "metadata": {
  "language_info": {
   "codemirror_mode": {
    "name": "ipython",
    "version": 3
   },
   "file_extension": ".py",
   "mimetype": "text/x-python",
   "name": "python",
   "nbconvert_exporter": "python",
   "pygments_lexer": "ipython3",
   "version": "3.9.0-candidate"
  },
  "orig_nbformat": 2,
  "kernelspec": {
   "name": "Python 3.9.0 64-bit ('venv': venv)",
   "display_name": "Python 3.9.0 64-bit ('venv': venv)",
   "metadata": {
    "interpreter": {
     "hash": "fb33f5983391e17bcab321b4669d2ab9b10d789c00ab93b2859330178a161d1e"
    }
   }
  }
 },
 "nbformat": 4,
 "nbformat_minor": 2,
 "cells": [
  {
   "cell_type": "code",
   "execution_count": 1,
   "metadata": {},
   "outputs": [],
   "source": [
    "import sys\n",
    "sys.path.append('../src/')\n",
    "\n",
    "from data_loader import DataLoader\n",
    "from mnist import load_mnist\n",
    "from model import Model\n",
    "from multilayer_perceptron import MultilayerPerceptron as MLP, SGDTrainer\n",
    "from random_fns import Normal, RandomFunction\n",
    "from supervisor import Supervisor"
   ]
  },
  {
   "cell_type": "code",
   "execution_count": 2,
   "metadata": {
    "tags": []
   },
   "outputs": [],
   "source": [
    "train_data, val_data, _ = load_mnist('../data/mnist.pkl.gz')\n",
    "\n",
    "train_dataloader = DataLoader(train_data, batch_size=10)\n",
    "val_dataloader = DataLoader(val_data)"
   ]
  },
  {
   "cell_type": "code",
   "execution_count": 3,
   "metadata": {},
   "outputs": [
    {
     "output_type": "stream",
     "name": "stdout",
     "text": [
      "loss = 0.29, acc = 91.71%\n",
      "loss = 0.24, acc = 93.02%\n",
      "loss = 0.22, acc = 93.91%\n",
      "loss = 0.21, acc = 94.24%\n",
      "loss = 0.20, acc = 94.19%\n",
      "Reached the early stopping threshold (0.05%)\n"
     ]
    },
    {
     "output_type": "execute_result",
     "data": {
      "text/plain": [
       "4"
      ]
     },
     "metadata": {},
     "execution_count": 3
    }
   ],
   "source": [
    "nn = MLP(\n",
    "    layer_sizes=[784, 15, 10],\n",
    "    random_fn=Normal(std=1)\n",
    ")\n",
    "\n",
    "trainer = SGDTrainer(\n",
    "    learning_rate=0.01,\n",
    "    train_dataloader=train_dataloader,\n",
    "    val_dataloader=val_dataloader\n",
    ")\n",
    "supervisor = Supervisor(\n",
    "    model=nn,\n",
    "    trainer=trainer,\n",
    "    epsilon=0.01,\n",
    "    early_stopping_threshold=0.0002\n",
    ")\n",
    "\n",
    "supervisor()"
   ]
  }
 ]
}