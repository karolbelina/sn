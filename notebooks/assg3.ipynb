{
 "metadata": {
  "language_info": {
   "codemirror_mode": {
    "name": "ipython",
    "version": 3
   },
   "file_extension": ".py",
   "mimetype": "text/x-python",
   "name": "python",
   "nbconvert_exporter": "python",
   "pygments_lexer": "ipython3",
   "version": "3.9.0-candidate"
  },
  "orig_nbformat": 2,
  "kernelspec": {
   "name": "python3",
   "display_name": "Python 3"
  }
 },
 "nbformat": 4,
 "nbformat_minor": 2,
 "cells": [
  {
   "cell_type": "code",
   "execution_count": 1,
   "metadata": {},
   "outputs": [],
   "source": [
    "import sys\n",
    "sys.path.append('../src/')\n",
    "\n",
    "from activation_fns import Sigmoid, ReLU\n",
    "from data_loader import DataLoader\n",
    "from mnist import load_mnist\n",
    "from model import Model\n",
    "from multilayer_perceptron import MultilayerPerceptron as MLP, SGDTrainer, SGDMomentumTrainer, NesterovMomentumTrainer, AdagradTrainer, AdadeltaTrainer\n",
    "from supervisor import ResearchSupervisor\n",
    "from weight_initializers import Xavier, He\n",
    "\n",
    "import matplotlib.pyplot as plt\n",
    "import numpy as np"
   ]
  },
  {
   "cell_type": "code",
   "execution_count": 2,
   "metadata": {},
   "outputs": [],
   "source": [
    "train_data, val_data, _ = load_mnist('../data/mnist.pkl.gz')"
   ]
  },
  {
   "cell_type": "code",
   "execution_count": 3,
   "metadata": {
    "tags": []
   },
   "outputs": [
    {
     "output_type": "stream",
     "name": "stdout",
     "text": [
      "epoch 1, accuracy = 69.20%\n",
      "epoch 2, accuracy = 77.40%\n",
      "epoch 3, accuracy = 78.90%\n",
      "epoch 4, accuracy = 81.70%\n",
      "epoch 5, accuracy = 82.30%\n",
      "epoch 6, accuracy = 83.30%\n",
      "epoch 7, accuracy = 84.10%\n",
      "epoch 8, accuracy = 84.90%\n",
      "epoch 9, accuracy = 85.90%\n",
      "epoch 10, accuracy = 85.10%\n"
     ]
    }
   ],
   "source": [
    "train_dataloader = DataLoader(train_data[:1000], batch_size=10)\n",
    "val_dataloader = DataLoader(val_data[:1000])\n",
    "\n",
    "model = MLP(\n",
    "    layer_sizes=[784, 100, 10],\n",
    "    activation_fns=[Sigmoid()],\n",
    "    weight_initializer=Xavier()\n",
    ")\n",
    "trainer = AdadeltaTrainer(\n",
    "    train_dataloader=train_dataloader,\n",
    "    val_dataloader=val_dataloader\n",
    ")\n",
    "supervisor = ResearchSupervisor(\n",
    "    model=model,\n",
    "    trainer=trainer,\n",
    "    max_epochs=100,\n",
    "    epsilon=0\n",
    ")\n",
    "epochs, accuracy = supervisor()\n",
    "\n",
    "print(accuracy)"
   ]
  },
  {
   "cell_type": "code",
   "execution_count": null,
   "metadata": {},
   "outputs": [],
   "source": []
  }
 ]
}