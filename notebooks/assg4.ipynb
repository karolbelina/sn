{
 "metadata": {
  "language_info": {
   "codemirror_mode": {
    "name": "ipython",
    "version": 3
   },
   "file_extension": ".py",
   "mimetype": "text/x-python",
   "name": "python",
   "nbconvert_exporter": "python",
   "pygments_lexer": "ipython3",
   "version": "3.9.0-candidate"
  },
  "orig_nbformat": 2,
  "kernelspec": {
   "name": "python3",
   "display_name": "Python 3"
  }
 },
 "nbformat": 4,
 "nbformat_minor": 2,
 "cells": [
  {
   "cell_type": "code",
   "execution_count": 1,
   "metadata": {},
   "outputs": [],
   "source": [
    "import sys\n",
    "sys.path.append('../src/')\n",
    "\n",
    "from activation_fns import Sigmoid as SigmoidMLP\n",
    "from data_loader import DataLoader\n",
    "from mnist import load_mnist\n",
    "from model import Model\n",
    "from cnn import ConvolutionalNeuralNetwork as CNN, FullyConnectedLayer as FCL, Sigmoid\n",
    "from multilayer_perceptron import MultilayerPerceptron as MLP\n",
    "from supervisor import ResearchSupervisor\n",
    "from trainers import SGDTrainer, AdagradTrainer, AdamTrainer\n",
    "from weight_initializers import He\n",
    "\n",
    "import matplotlib.pyplot as plt\n",
    "import numpy as np"
   ]
  },
  {
   "cell_type": "code",
   "execution_count": 2,
   "metadata": {},
   "outputs": [],
   "source": [
    "train_data, val_data, _ = load_mnist('../data/mnist.pkl.gz')"
   ]
  },
  {
   "cell_type": "code",
   "execution_count": 3,
   "metadata": {},
   "outputs": [
    {
     "output_type": "stream",
     "name": "stdout",
     "text": [
      "epoch 1, accuracy = 18.50%, loss = 16.09\n",
      "epoch 2, accuracy = 10.50%, loss = 11.10\n",
      "epoch 3, accuracy = 10.70%, loss = 5.27\n",
      "epoch 4, accuracy = 14.90%, loss = 3.17\n",
      "epoch 5, accuracy = 24.60%, loss = 3.51\n",
      "epoch 6, accuracy = 9.00%, loss = 2.85\n",
      "epoch 7, accuracy = 24.60%, loss = 3.10\n",
      "epoch 8, accuracy = 21.70%, loss = 2.71\n",
      "epoch 9, accuracy = 30.20%, loss = 2.94\n",
      "epoch 10, accuracy = 25.00%, loss = 2.92\n",
      "epoch 11, accuracy = 45.60%, loss = 2.63\n",
      "epoch 12, accuracy = 38.70%, loss = 2.45\n",
      "epoch 13, accuracy = 44.70%, loss = 2.52\n",
      "epoch 14, accuracy = 39.90%, loss = 3.16\n",
      "epoch 15, accuracy = 37.10%, loss = 2.87\n",
      "epoch 16, accuracy = 49.80%, loss = 2.50\n",
      "epoch 17, accuracy = 44.40%, loss = 2.94\n",
      "epoch 18, accuracy = 52.80%, loss = 3.11\n",
      "epoch 19, accuracy = 56.60%, loss = 1.93\n",
      "epoch 20, accuracy = 62.40%, loss = 1.93\n",
      "epoch 21, accuracy = 59.60%, loss = 1.99\n",
      "epoch 22, accuracy = 59.70%, loss = 2.48\n",
      "epoch 23, accuracy = 50.60%, loss = 2.82\n",
      "epoch 24, accuracy = 57.70%, loss = 2.11\n",
      "epoch 25, accuracy = 57.20%, loss = 2.47\n",
      "epoch 26, accuracy = 65.30%, loss = 1.87\n",
      "epoch 27, accuracy = 68.20%, loss = 1.72\n",
      "epoch 28, accuracy = 66.60%, loss = 1.78\n",
      "epoch 29, accuracy = 68.00%, loss = 1.93\n",
      "epoch 30, accuracy = 66.30%, loss = 1.88\n",
      "epoch 31, accuracy = 64.10%, loss = 2.42\n",
      "epoch 32, accuracy = 66.80%, loss = 1.94\n",
      "epoch 33, accuracy = 73.10%, loss = 1.65\n",
      "epoch 34, accuracy = 66.30%, loss = 1.83\n",
      "epoch 35, accuracy = 71.40%, loss = 2.08\n",
      "epoch 36, accuracy = 78.00%, loss = 1.28\n",
      "epoch 37, accuracy = 74.20%, loss = 1.66\n",
      "epoch 38, accuracy = 74.30%, loss = 1.76\n",
      "epoch 39, accuracy = 74.10%, loss = 1.78\n",
      "epoch 40, accuracy = 74.30%, loss = 1.80\n",
      "epoch 41, accuracy = 72.20%, loss = 2.03\n",
      "epoch 42, accuracy = 71.00%, loss = 2.14\n",
      "epoch 43, accuracy = 69.80%, loss = 2.14\n",
      "epoch 44, accuracy = 74.60%, loss = 1.77\n",
      "epoch 45, accuracy = 74.20%, loss = 1.79\n",
      "epoch 46, accuracy = 73.50%, loss = 2.38\n",
      "epoch 47, accuracy = 73.00%, loss = 1.77\n",
      "epoch 48, accuracy = 74.30%, loss = 2.22\n",
      "epoch 49, accuracy = 74.60%, loss = 2.07\n",
      "epoch 50, accuracy = 72.00%, loss = 2.43\n",
      "epoch 51, accuracy = 73.30%, loss = 2.17\n",
      "epoch 52, accuracy = 73.50%, loss = 2.35\n",
      "epoch 53, accuracy = 76.60%, loss = 1.91\n",
      "epoch 54, accuracy = 78.70%, loss = 1.81\n"
     ]
    },
    {
     "output_type": "error",
     "ename": "KeyboardInterrupt",
     "evalue": "",
     "traceback": [
      "\u001b[0;31m---------------------------------------------------------------------------\u001b[0m",
      "\u001b[0;31mKeyboardInterrupt\u001b[0m                         Traceback (most recent call last)",
      "\u001b[0;32m<ipython-input-3-ea64a40b52fd>\u001b[0m in \u001b[0;36m<module>\u001b[0;34m\u001b[0m\n\u001b[1;32m     21\u001b[0m     \u001b[0mepsilon\u001b[0m\u001b[0;34m=\u001b[0m\u001b[0;36m0\u001b[0m\u001b[0;34m\u001b[0m\u001b[0;34m\u001b[0m\u001b[0m\n\u001b[1;32m     22\u001b[0m )\n\u001b[0;32m---> 23\u001b[0;31m \u001b[0mepochs\u001b[0m\u001b[0;34m,\u001b[0m \u001b[0maccuracy\u001b[0m \u001b[0;34m=\u001b[0m \u001b[0msupervisor\u001b[0m\u001b[0;34m(\u001b[0m\u001b[0mverbose\u001b[0m\u001b[0;34m=\u001b[0m\u001b[0;32mTrue\u001b[0m\u001b[0;34m)\u001b[0m\u001b[0;34m\u001b[0m\u001b[0;34m\u001b[0m\u001b[0m\n\u001b[0m\u001b[1;32m     24\u001b[0m \u001b[0;34m\u001b[0m\u001b[0m\n\u001b[1;32m     25\u001b[0m \u001b[0mprint\u001b[0m\u001b[0;34m(\u001b[0m\u001b[0maccuracy\u001b[0m\u001b[0;34m)\u001b[0m\u001b[0;34m\u001b[0m\u001b[0;34m\u001b[0m\u001b[0m\n",
      "\u001b[0;32m/mnt/c/Users/karol/Projects/sn/src/supervisor.py\u001b[0m in \u001b[0;36m__call__\u001b[0;34m(self, verbose)\u001b[0m\n\u001b[1;32m     41\u001b[0m             \u001b[0mepoch_number\u001b[0m \u001b[0;34m+=\u001b[0m \u001b[0;36m1\u001b[0m\u001b[0;34m\u001b[0m\u001b[0;34m\u001b[0m\u001b[0m\n\u001b[1;32m     42\u001b[0m \u001b[0;34m\u001b[0m\u001b[0m\n\u001b[0;32m---> 43\u001b[0;31m             \u001b[0mself\u001b[0m\u001b[0;34m.\u001b[0m\u001b[0m_trainer\u001b[0m\u001b[0;34m.\u001b[0m\u001b[0mfit\u001b[0m\u001b[0;34m(\u001b[0m\u001b[0mself\u001b[0m\u001b[0;34m.\u001b[0m\u001b[0m_model\u001b[0m\u001b[0;34m)\u001b[0m\u001b[0;34m\u001b[0m\u001b[0;34m\u001b[0m\u001b[0m\n\u001b[0m\u001b[1;32m     44\u001b[0m             \u001b[0merror\u001b[0m\u001b[0;34m,\u001b[0m \u001b[0mloss\u001b[0m \u001b[0;34m=\u001b[0m \u001b[0mself\u001b[0m\u001b[0;34m.\u001b[0m\u001b[0m_trainer\u001b[0m\u001b[0;34m.\u001b[0m\u001b[0mvalidate\u001b[0m\u001b[0;34m(\u001b[0m\u001b[0mself\u001b[0m\u001b[0;34m.\u001b[0m\u001b[0m_model\u001b[0m\u001b[0;34m)\u001b[0m\u001b[0;34m\u001b[0m\u001b[0;34m\u001b[0m\u001b[0m\n\u001b[1;32m     45\u001b[0m \u001b[0;34m\u001b[0m\u001b[0m\n",
      "\u001b[0;32m/mnt/c/Users/karol/Projects/sn/src/trainers.py\u001b[0m in \u001b[0;36mfit\u001b[0;34m(self, model)\u001b[0m\n\u001b[1;32m    208\u001b[0m             \u001b[0mv_hat\u001b[0m \u001b[0;34m=\u001b[0m \u001b[0mv\u001b[0m \u001b[0;34m/\u001b[0m \u001b[0;34m(\u001b[0m\u001b[0;36m1\u001b[0m \u001b[0;34m-\u001b[0m \u001b[0mβ2\u001b[0m \u001b[0;34m**\u001b[0m \u001b[0mt\u001b[0m\u001b[0;34m)\u001b[0m\u001b[0;34m\u001b[0m\u001b[0;34m\u001b[0m\u001b[0m\n\u001b[1;32m    209\u001b[0m \u001b[0;34m\u001b[0m\u001b[0m\n\u001b[0;32m--> 210\u001b[0;31m             \u001b[0mθ\u001b[0m \u001b[0;34m=\u001b[0m \u001b[0mθ\u001b[0m \u001b[0;34m-\u001b[0m \u001b[0mα\u001b[0m \u001b[0;34m/\u001b[0m \u001b[0;34m(\u001b[0m\u001b[0mnp\u001b[0m\u001b[0;34m.\u001b[0m\u001b[0msqrt\u001b[0m\u001b[0;34m(\u001b[0m\u001b[0mv_hat\u001b[0m\u001b[0;34m)\u001b[0m \u001b[0;34m+\u001b[0m \u001b[0mε\u001b[0m\u001b[0;34m)\u001b[0m \u001b[0;34m*\u001b[0m \u001b[0mm_hat\u001b[0m\u001b[0;34m\u001b[0m\u001b[0;34m\u001b[0m\u001b[0m\n\u001b[0m\u001b[1;32m    211\u001b[0m \u001b[0;34m\u001b[0m\u001b[0m\n\u001b[1;32m    212\u001b[0m         \u001b[0mmodel\u001b[0m\u001b[0;34m.\u001b[0m\u001b[0mθ\u001b[0m \u001b[0;34m=\u001b[0m \u001b[0mθ\u001b[0m\u001b[0;34m\u001b[0m\u001b[0;34m\u001b[0m\u001b[0m\n",
      "\u001b[0;31mKeyboardInterrupt\u001b[0m: "
     ]
    }
   ],
   "source": [
    "train_dataloader = DataLoader(train_data[:1000], batch_size=10)\n",
    "val_dataloader = DataLoader(val_data[:1000])\n",
    "\n",
    "model = CNN(\n",
    "    layers=[FCL(784, 100), Sigmoid(), FCL(100, 10)],\n",
    "    weight_initializer=He()\n",
    ")\n",
    "# model = MLP(\n",
    "#     layer_sizes=[784, 100, 10],\n",
    "#     activation_fns=[SigmoidMLP()],\n",
    "#     weight_initializer=He()\n",
    "# )\n",
    "trainer = AdagradTrainer(\n",
    "    train_dataloader=train_dataloader,\n",
    "    val_dataloader=val_dataloader\n",
    ")\n",
    "supervisor = ResearchSupervisor(\n",
    "    model=model,\n",
    "    trainer=trainer,\n",
    "    max_epochs=100,\n",
    "    epsilon=0\n",
    ")\n",
    "epochs, accuracy = supervisor(verbose=True)\n",
    "\n",
    "print(accuracy)"
   ]
  },
  {
   "cell_type": "code",
   "execution_count": null,
   "metadata": {},
   "outputs": [],
   "source": []
  }
 ]
}